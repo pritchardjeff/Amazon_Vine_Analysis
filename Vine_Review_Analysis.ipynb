{
  "nbformat": 4,
  "nbformat_minor": 0,
  "metadata": {
    "colab": {
      "name": "Vine_Review_Analysis.ipynb",
      "provenance": [],
      "collapsed_sections": []
    },
    "kernelspec": {
      "name": "python3",
      "display_name": "Python 3"
    }
  },
  "cells": [
    {
      "cell_type": "code",
      "metadata": {
        "id": "2D_OEcK_9IqA",
        "outputId": "4bc83da9-9093-48aa-ae49-4223bbb78bc0",
        "colab": {
          "base_uri": "https://localhost:8080/"
        }
      },
      "source": [
        "import os\n",
        "# Find the latest version of spark 3.0  from http://www-us.apache.org/dist/spark/ and enter as the spark version\n",
        "# For example:\n",
        "# spark_version = 'spark-3.0.1'\n",
        "spark_version = 'spark-3.0.1'\n",
        "os.environ['SPARK_VERSION']=spark_version\n",
        "\n",
        "# Install Spark and Java\n",
        "!apt-get update\n",
        "!apt-get install openjdk-11-jdk-headless -qq > /dev/null\n",
        "!wget -q http://www-us.apache.org/dist/spark/$SPARK_VERSION/$SPARK_VERSION-bin-hadoop2.7.tgz\n",
        "!tar xf $SPARK_VERSION-bin-hadoop2.7.tgz\n",
        "!pip install -q findspark\n",
        "\n",
        "# Set Environment Variables\n",
        "import os\n",
        "os.environ[\"JAVA_HOME\"] = \"/usr/lib/jvm/java-11-openjdk-amd64\"\n",
        "os.environ[\"SPARK_HOME\"] = f\"/content/{spark_version}-bin-hadoop2.7\"\n",
        "\n",
        "# Start a SparkSession\n",
        "import findspark\n",
        "findspark.init()"
      ],
      "execution_count": 1,
      "outputs": [
        {
          "output_type": "stream",
          "text": [
            "\r0% [Working]\r            \rGet:1 http://security.ubuntu.com/ubuntu bionic-security InRelease [88.7 kB]\n",
            "\r0% [Connecting to archive.ubuntu.com (91.189.88.152)] [1 InRelease 14.2 kB/88.7\r                                                                               \rIgn:2 https://developer.download.nvidia.com/compute/cuda/repos/ubuntu1804/x86_64  InRelease\n",
            "\r0% [Waiting for headers] [1 InRelease 14.2 kB/88.7 kB 16%] [Waiting for headers\r                                                                               \rGet:3 https://cloud.r-project.org/bin/linux/ubuntu bionic-cran40/ InRelease [3,626 B]\n",
            "Ign:4 https://developer.download.nvidia.com/compute/machine-learning/repos/ubuntu1804/x86_64  InRelease\n",
            "Get:5 http://ppa.launchpad.net/c2d4u.team/c2d4u4.0+/ubuntu bionic InRelease [15.9 kB]\n",
            "Get:6 https://developer.download.nvidia.com/compute/cuda/repos/ubuntu1804/x86_64  Release [697 B]\n",
            "Hit:7 https://developer.download.nvidia.com/compute/machine-learning/repos/ubuntu1804/x86_64  Release\n",
            "Hit:8 http://archive.ubuntu.com/ubuntu bionic InRelease\n",
            "Get:9 https://developer.download.nvidia.com/compute/cuda/repos/ubuntu1804/x86_64  Release.gpg [836 B]\n",
            "Get:10 http://archive.ubuntu.com/ubuntu bionic-updates InRelease [88.7 kB]\n",
            "Get:11 http://ppa.launchpad.net/graphics-drivers/ppa/ubuntu bionic InRelease [21.3 kB]\n",
            "Get:12 https://cloud.r-project.org/bin/linux/ubuntu bionic-cran40/ Packages [40.3 kB]\n",
            "Get:13 http://archive.ubuntu.com/ubuntu bionic-backports InRelease [74.6 kB]\n",
            "Get:14 http://security.ubuntu.com/ubuntu bionic-security/universe amd64 Packages [1,354 kB]\n",
            "Get:15 http://security.ubuntu.com/ubuntu bionic-security/main amd64 Packages [1,750 kB]\n",
            "Ign:17 https://developer.download.nvidia.com/compute/cuda/repos/ubuntu1804/x86_64  Packages\n",
            "Get:17 https://developer.download.nvidia.com/compute/cuda/repos/ubuntu1804/x86_64  Packages [405 kB]\n",
            "Get:18 http://ppa.launchpad.net/c2d4u.team/c2d4u4.0+/ubuntu bionic/main Sources [1,688 kB]\n",
            "Get:19 http://archive.ubuntu.com/ubuntu bionic-updates/main amd64 Packages [2,167 kB]\n",
            "Get:20 http://archive.ubuntu.com/ubuntu bionic-updates/universe amd64 Packages [2,119 kB]\n",
            "Get:21 http://ppa.launchpad.net/c2d4u.team/c2d4u4.0+/ubuntu bionic/main amd64 Packages [864 kB]\n",
            "Get:22 http://ppa.launchpad.net/graphics-drivers/ppa/ubuntu bionic/main amd64 Packages [48.9 kB]\n",
            "Fetched 10.7 MB in 5s (2,156 kB/s)\n",
            "Reading package lists... Done\n"
          ],
          "name": "stdout"
        }
      ]
    },
    {
      "cell_type": "code",
      "metadata": {
        "id": "iZ0dnzki-HiJ"
      },
      "source": [
        "# Start Spark session\n",
        "from pyspark.sql import SparkSession\n",
        "spark = SparkSession.builder.appName(\"VineReview\").getOrCreate()"
      ],
      "execution_count": 2,
      "outputs": []
    },
    {
      "cell_type": "code",
      "metadata": {
        "id": "kghrSBNw-rv0",
        "outputId": "2a823b12-8efd-476b-c3ef-9036e1483f52",
        "colab": {
          "base_uri": "https://localhost:8080/"
        }
      },
      "source": [
        "# Read in data from S3 Buckets\n",
        "from pyspark import SparkFiles\n",
        "url =\"https://jpritchardaws-bucket.s3.us-east-2.amazonaws.com/Vine_Table.csv\"\n",
        "spark.sparkContext.addFile(url)\n",
        "df = spark.read.csv(SparkFiles.get(\"Vine_Table.csv\"), sep=\",\", header=True)\n",
        "\n",
        "# Show DataFrame\n",
        "df.show()\n",
        "\n"
      ],
      "execution_count": 5,
      "outputs": [
        {
          "output_type": "stream",
          "text": [
            "+--------------+-----------+-------------+-----------+----+-----------------+\n",
            "|     review_id|star_rating|helpful_votes|total_votes|vine|verified_purchase|\n",
            "+--------------+-----------+-------------+-----------+----+-----------------+\n",
            "|R1P1G5KZ05H6RD|          5|            0|          0|   N|                Y|\n",
            "|R106N066IUN8ZV|          5|            0|          0|   N|                Y|\n",
            "| R7WTAA1S5O7D9|          4|            0|          0|   N|                Y|\n",
            "|R32HFMVWLYOYJK|          5|            0|          0|   N|                Y|\n",
            "| RWT3H6HBVAL6G|          3|            0|          0|   N|                N|\n",
            "|R1S3T3GWUGQTW7|          5|            0|          0|   N|                Y|\n",
            "|R3R0QYHA800REE|          4|            0|          0|   N|                Y|\n",
            "|R1FR0EQPHPW5NM|          4|            1|          2|   N|                N|\n",
            "| RGORN81H45NI7|          5|            1|          1|   N|                Y|\n",
            "|R1CNYN4ABNOJSU|          5|            0|          0|   N|                Y|\n",
            "|R2DW06821PMN40|          3|            0|          0|   N|                Y|\n",
            "|R1CS8AMA8B0VBJ|          5|            0|          0|   N|                Y|\n",
            "|R343CPRI4MC9J0|          5|            0|          0|   N|                N|\n",
            "| R3XP0G8P2BOTP|          5|            1|          2|   N|                Y|\n",
            "|R3NK7014K996PF|          2|            0|          4|   N|                Y|\n",
            "| ROIQI6ZW6UVL9|          5|            0|          0|   N|                Y|\n",
            "| RECPIN4UZI76Z|          2|            0|          2|   N|                Y|\n",
            "|R3FE5KO613PMVI|          1|            0|          0|   N|                Y|\n",
            "|R2EC74PS45RAOR|          5|            0|          0|   N|                Y|\n",
            "|R3FZ5C78PP7ZD7|          5|            1|          1|   N|                Y|\n",
            "+--------------+-----------+-------------+-----------+----+-----------------+\n",
            "only showing top 20 rows\n",
            "\n"
          ],
          "name": "stdout"
        }
      ]
    },
    {
      "cell_type": "code",
      "metadata": {
        "id": "jhC_LCnO_6Dg",
        "outputId": "58a697ef-1691-4674-b37b-466f1a8e8860",
        "colab": {
          "base_uri": "https://localhost:8080/"
        }
      },
      "source": [
        "# Step 1 filter total votes >= 20\n",
        "filtered_df = df.filter(\"total_votes>=20\").show(5)"
      ],
      "execution_count": 18,
      "outputs": [
        {
          "output_type": "stream",
          "text": [
            "+--------------+-----------+-------------+-----------+----+-----------------+\n",
            "|     review_id|star_rating|helpful_votes|total_votes|vine|verified_purchase|\n",
            "+--------------+-----------+-------------+-----------+----+-----------------+\n",
            "| RN8GRZ45FA27G|          5|           30|         31|   N|                N|\n",
            "|R3DHJNHOZTXZ6C|          1|            0|         20|   N|                N|\n",
            "|R2BVILHJN8OCJB|          5|           29|         31|   N|                N|\n",
            "|R1L88H90CK9ID5|          1|            1|         37|   N|                Y|\n",
            "| RJQ36XR04YC0D|          5|           21|         24|   N|                N|\n",
            "+--------------+-----------+-------------+-----------+----+-----------------+\n",
            "only showing top 5 rows\n",
            "\n"
          ],
          "name": "stdout"
        }
      ]
    },
    {
      "cell_type": "code",
      "metadata": {
        "id": "f9vgJTQAAWPf",
        "outputId": "178c7350-1949-40e4-87cb-fe1e256ee984",
        "colab": {
          "base_uri": "https://localhost:8080/"
        }
      },
      "source": [
        "\n",
        "df = df.withColumn(\"helpful_per\", df[\"helpful_votes\"] / df[\"total_votes\"]) \n",
        "df.show()\n"
      ],
      "execution_count": 31,
      "outputs": [
        {
          "output_type": "stream",
          "text": [
            "+--------------+-----------+-------------+-----------+----+-----------------+-----------+\n",
            "|     review_id|star_rating|helpful_votes|total_votes|vine|verified_purchase|helpful_per|\n",
            "+--------------+-----------+-------------+-----------+----+-----------------+-----------+\n",
            "|R1P1G5KZ05H6RD|          5|            0|          0|   N|                Y|       null|\n",
            "|R106N066IUN8ZV|          5|            0|          0|   N|                Y|       null|\n",
            "| R7WTAA1S5O7D9|          4|            0|          0|   N|                Y|       null|\n",
            "|R32HFMVWLYOYJK|          5|            0|          0|   N|                Y|       null|\n",
            "| RWT3H6HBVAL6G|          3|            0|          0|   N|                N|       null|\n",
            "|R1S3T3GWUGQTW7|          5|            0|          0|   N|                Y|       null|\n",
            "|R3R0QYHA800REE|          4|            0|          0|   N|                Y|       null|\n",
            "|R1FR0EQPHPW5NM|          4|            1|          2|   N|                N|        0.5|\n",
            "| RGORN81H45NI7|          5|            1|          1|   N|                Y|        1.0|\n",
            "|R1CNYN4ABNOJSU|          5|            0|          0|   N|                Y|       null|\n",
            "|R2DW06821PMN40|          3|            0|          0|   N|                Y|       null|\n",
            "|R1CS8AMA8B0VBJ|          5|            0|          0|   N|                Y|       null|\n",
            "|R343CPRI4MC9J0|          5|            0|          0|   N|                N|       null|\n",
            "| R3XP0G8P2BOTP|          5|            1|          2|   N|                Y|        0.5|\n",
            "|R3NK7014K996PF|          2|            0|          4|   N|                Y|        0.0|\n",
            "| ROIQI6ZW6UVL9|          5|            0|          0|   N|                Y|       null|\n",
            "| RECPIN4UZI76Z|          2|            0|          2|   N|                Y|        0.0|\n",
            "|R3FE5KO613PMVI|          1|            0|          0|   N|                Y|       null|\n",
            "|R2EC74PS45RAOR|          5|            0|          0|   N|                Y|       null|\n",
            "|R3FZ5C78PP7ZD7|          5|            1|          1|   N|                Y|        1.0|\n",
            "+--------------+-----------+-------------+-----------+----+-----------------+-----------+\n",
            "only showing top 20 rows\n",
            "\n"
          ],
          "name": "stdout"
        }
      ]
    },
    {
      "cell_type": "code",
      "metadata": {
        "id": "RRcWxsReGU8S",
        "outputId": "e48e00fe-658b-4987-b74a-f64a1a7414c2",
        "colab": {
          "base_uri": "https://localhost:8080/"
        }
      },
      "source": [
        "# Data Filtered > 20 total votes and Helpful % >=50%\n",
        "filtered_df = df.filter(\"total_votes>=20\")\n",
        "filterTwo_df = filtered_df.filter(\"helpful_per>=.50\").show()\n"
      ],
      "execution_count": 46,
      "outputs": [
        {
          "output_type": "stream",
          "text": [
            "+--------------+-----------+-------------+-----------+----+-----------------+------------------+\n",
            "|     review_id|star_rating|helpful_votes|total_votes|vine|verified_purchase|       helpful_per|\n",
            "+--------------+-----------+-------------+-----------+----+-----------------+------------------+\n",
            "| RN8GRZ45FA27G|          5|           30|         31|   N|                N| 0.967741935483871|\n",
            "|R2BVILHJN8OCJB|          5|           29|         31|   N|                N|0.9354838709677419|\n",
            "| RJQ36XR04YC0D|          5|           21|         24|   N|                N|             0.875|\n",
            "|R250VXGBVFWTUV|          4|           17|         20|   N|                N|              0.85|\n",
            "|R16CPMMKI4ZPZG|          5|           22|         23|   N|                N|0.9565217391304348|\n",
            "|R1QDLAE82GPWWG|          4|           30|         32|   N|                N|            0.9375|\n",
            "| ROVJULNDT4MPI|          5|           20|         20|   N|                N|               1.0|\n",
            "|R3EHTX262RLEKZ|          5|           28|         31|   N|                Y|0.9032258064516129|\n",
            "|R28TXXUMXAIGH3|          5|           21|         24|   N|                N|             0.875|\n",
            "|R3UBLTOJ9G8NSU|          4|           19|         25|   N|                N|              0.76|\n",
            "|R1AJGJI6E2TZ26|          1|           44|         47|   N|                N|0.9361702127659575|\n",
            "|R16Y72Z2CP4A3Y|          5|           27|         28|   N|                Y|0.9642857142857143|\n",
            "|R26K5GZTYJOS08|          5|           32|         32|   N|                N|               1.0|\n",
            "|R1PEOPNU57LE5J|          5|           30|         33|   N|                Y|0.9090909090909091|\n",
            "| RVK8SPOZ3L50D|          5|           79|         81|   N|                Y|0.9753086419753086|\n",
            "|R3O5I6JZA32HHS|          5|           18|         20|   N|                Y|               0.9|\n",
            "|R166CXEUVQP4L9|          2|           13|         20|   N|                N|              0.65|\n",
            "|R3FOJNYONJZAVL|          5|           42|         43|   N|                Y|0.9767441860465116|\n",
            "|R22CIFPZ3HGNBZ|          2|           17|         21|   N|                Y|0.8095238095238095|\n",
            "|R30PZGIDXHASEK|          3|           24|         26|   N|                Y|0.9230769230769231|\n",
            "+--------------+-----------+-------------+-----------+----+-----------------+------------------+\n",
            "only showing top 20 rows\n",
            "\n"
          ],
          "name": "stdout"
        }
      ]
    },
    {
      "cell_type": "code",
      "metadata": {
        "id": "Q2XFyhPoH-KX",
        "outputId": "c293e9af-028f-48b2-c0ed-9e43c8bbdba1",
        "colab": {
          "base_uri": "https://localhost:8080/"
        }
      },
      "source": [
        "# Vine Review\n",
        "filterYes_df = df.filter(df[\"vine\"] == \"Y\").filter(\"total_votes>=20\").filter(\"helpful_per>=.5\").show()"
      ],
      "execution_count": 54,
      "outputs": [
        {
          "output_type": "stream",
          "text": [
            "+---------+-----------+-------------+-----------+----+-----------------+-----------+\n",
            "|review_id|star_rating|helpful_votes|total_votes|vine|verified_purchase|helpful_per|\n",
            "+---------+-----------+-------------+-----------+----+-----------------+-----------+\n",
            "+---------+-----------+-------------+-----------+----+-----------------+-----------+\n",
            "\n"
          ],
          "name": "stdout"
        }
      ]
    },
    {
      "cell_type": "code",
      "metadata": {
        "id": "5kKgapSZIXc3",
        "outputId": "7e496c43-e7e6-4f58-cb4b-acbebecb030d",
        "colab": {
          "base_uri": "https://localhost:8080/"
        }
      },
      "source": [
        "# No Vine Review\n",
        "filterNo_df = df.filter(df[\"vine\"] == \"N\").filter(\"total_votes>=20\").filter(\"helpful_per>=.5\").show()"
      ],
      "execution_count": 55,
      "outputs": [
        {
          "output_type": "stream",
          "text": [
            "+--------------+-----------+-------------+-----------+----+-----------------+------------------+\n",
            "|     review_id|star_rating|helpful_votes|total_votes|vine|verified_purchase|       helpful_per|\n",
            "+--------------+-----------+-------------+-----------+----+-----------------+------------------+\n",
            "| RN8GRZ45FA27G|          5|           30|         31|   N|                N| 0.967741935483871|\n",
            "|R2BVILHJN8OCJB|          5|           29|         31|   N|                N|0.9354838709677419|\n",
            "| RJQ36XR04YC0D|          5|           21|         24|   N|                N|             0.875|\n",
            "|R250VXGBVFWTUV|          4|           17|         20|   N|                N|              0.85|\n",
            "|R16CPMMKI4ZPZG|          5|           22|         23|   N|                N|0.9565217391304348|\n",
            "|R1QDLAE82GPWWG|          4|           30|         32|   N|                N|            0.9375|\n",
            "| ROVJULNDT4MPI|          5|           20|         20|   N|                N|               1.0|\n",
            "|R3EHTX262RLEKZ|          5|           28|         31|   N|                Y|0.9032258064516129|\n",
            "|R28TXXUMXAIGH3|          5|           21|         24|   N|                N|             0.875|\n",
            "|R3UBLTOJ9G8NSU|          4|           19|         25|   N|                N|              0.76|\n",
            "|R1AJGJI6E2TZ26|          1|           44|         47|   N|                N|0.9361702127659575|\n",
            "|R16Y72Z2CP4A3Y|          5|           27|         28|   N|                Y|0.9642857142857143|\n",
            "|R26K5GZTYJOS08|          5|           32|         32|   N|                N|               1.0|\n",
            "|R1PEOPNU57LE5J|          5|           30|         33|   N|                Y|0.9090909090909091|\n",
            "| RVK8SPOZ3L50D|          5|           79|         81|   N|                Y|0.9753086419753086|\n",
            "|R3O5I6JZA32HHS|          5|           18|         20|   N|                Y|               0.9|\n",
            "|R166CXEUVQP4L9|          2|           13|         20|   N|                N|              0.65|\n",
            "|R3FOJNYONJZAVL|          5|           42|         43|   N|                Y|0.9767441860465116|\n",
            "|R22CIFPZ3HGNBZ|          2|           17|         21|   N|                Y|0.8095238095238095|\n",
            "|R30PZGIDXHASEK|          3|           24|         26|   N|                Y|0.9230769230769231|\n",
            "+--------------+-----------+-------------+-----------+----+-----------------+------------------+\n",
            "only showing top 20 rows\n",
            "\n"
          ],
          "name": "stdout"
        }
      ]
    },
    {
      "cell_type": "code",
      "metadata": {
        "id": "MFU-PvtRJ0F7",
        "outputId": "98aa20d1-b65c-4b2c-ca7a-61bde7696cab",
        "colab": {
          "base_uri": "https://localhost:8080/"
        }
      },
      "source": [
        "# Total Reviews\n",
        "df.select(\"star_rating\").count()\n"
      ],
      "execution_count": 68,
      "outputs": [
        {
          "output_type": "execute_result",
          "data": {
            "text/plain": [
              "380604"
            ]
          },
          "metadata": {
            "tags": []
          },
          "execution_count": 68
        }
      ]
    },
    {
      "cell_type": "code",
      "metadata": {
        "id": "VHzZZ7oAI9Q1",
        "outputId": "6e86d42c-5c28-45e8-99ac-0de1eb902306",
        "colab": {
          "base_uri": "https://localhost:8080/"
        }
      },
      "source": [
        "# Five Star Reviews\n",
        "df.select(\"star_rating\").filter(df[\"star_rating\"] == \"5\").count()"
      ],
      "execution_count": 72,
      "outputs": [
        {
          "output_type": "execute_result",
          "data": {
            "text/plain": [
              "227500"
            ]
          },
          "metadata": {
            "tags": []
          },
          "execution_count": 72
        }
      ]
    },
    {
      "cell_type": "code",
      "metadata": {
        "id": "rpLVEku1MJvw",
        "outputId": "fcfa6591-a4ca-4b6c-fa55-f345569277db",
        "colab": {
          "base_uri": "https://localhost:8080/"
        }
      },
      "source": [
        "# % of Vine Paid Reviews (Vine == Y)\n",
        "df.select(\"star_rating\").filter(df[\"star_rating\"] == \"5\").filter(df[\"vine\"] == \"Y\").count() / df.select(\"star_rating\").filter(df[\"star_rating\"] == \"5\").count()"
      ],
      "execution_count": 74,
      "outputs": [
        {
          "output_type": "execute_result",
          "data": {
            "text/plain": [
              "0.0"
            ]
          },
          "metadata": {
            "tags": []
          },
          "execution_count": 74
        }
      ]
    },
    {
      "cell_type": "code",
      "metadata": {
        "id": "_S4GPtjQMegm",
        "outputId": "5e37018b-573f-4317-a83c-8578de6da9a8",
        "colab": {
          "base_uri": "https://localhost:8080/"
        }
      },
      "source": [
        "# % of Vine unpaid reviews\n",
        "df.select(\"star_rating\").filter(df[\"star_rating\"] == \"5\").filter(df[\"vine\"] == \"N\").count() / df.select(\"star_rating\").filter(df[\"star_rating\"] == \"5\").count()"
      ],
      "execution_count": 75,
      "outputs": [
        {
          "output_type": "execute_result",
          "data": {
            "text/plain": [
              "1.0"
            ]
          },
          "metadata": {
            "tags": []
          },
          "execution_count": 75
        }
      ]
    }
  ]
}